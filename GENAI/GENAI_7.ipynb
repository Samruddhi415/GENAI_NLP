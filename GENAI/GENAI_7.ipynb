{
  "nbformat": 4,
  "nbformat_minor": 0,
  "metadata": {
    "colab": {
      "private_outputs": true,
      "provenance": []
    },
    "kernelspec": {
      "name": "python3",
      "display_name": "Python 3"
    },
    "language_info": {
      "name": "python"
    }
  },
  "cells": [
    {
      "cell_type": "code",
      "execution_count": null,
      "metadata": {
        "id": "ufzZRcJrsYLZ"
      },
      "outputs": [],
      "source": [
        "!pip uninstall -y torch torchaudio fastai"
      ]
    },
    {
      "cell_type": "code",
      "source": [
        "!pip install torch==2.6.0 torchvision==0.21.0"
      ],
      "metadata": {
        "id": "qkBNrM5Gsu71"
      },
      "execution_count": null,
      "outputs": []
    },
    {
      "cell_type": "code",
      "source": [
        "!pip install transformers"
      ],
      "metadata": {
        "id": "fAIkYjZjsxAn"
      },
      "execution_count": null,
      "outputs": []
    },
    {
      "cell_type": "code",
      "source": [
        "import transformers\n",
        "print(transformers.__version__)"
      ],
      "metadata": {
        "id": "qk5ZXGbps1Wq"
      },
      "execution_count": null,
      "outputs": []
    },
    {
      "cell_type": "code",
      "source": [
        "import torch\n",
        "import torchvision\n",
        "\n",
        "print(\"Torch version:\", torch.__version__)\n",
        "print(\"Torchvision version:\", torchvision.__version__)\n"
      ],
      "metadata": {
        "id": "2Qs1LkPLs3ax"
      },
      "execution_count": null,
      "outputs": []
    },
    {
      "cell_type": "code",
      "source": [
        "from transformers import CLIPProcessor, CLIPModel\n",
        "from PIL import Image\n",
        "import torch\n",
        "\n",
        "# Load the CLIP model and processor\n",
        "model = CLIPModel.from_pretrained(\"openai/clip-vit-base-patch32\")\n",
        "processor = CLIPProcessor.from_pretrained(\"openai/clip-vit-base-patch32\")\n",
        "\n",
        "# Load the local image directly\n",
        "image_path = \"/content/generated_img.png\"  # Path to your local image\n",
        "image = Image.open(image_path)\n",
        "\n",
        "# List of generic captions or descriptions (you can extend this as needed)\n",
        "# For a more dynamic approach, you could generate more captions using a caption generation model.\n",
        "text = [\n",
        "    \"a photo of a cat\",\n",
        "    \"a picture of a dog\",\n",
        "    \"a person riding a bike\",\n",
        "    \"a beautiful landscape\",\n",
        "    \"a close-up of a flower\",\n",
        "    \"a group of people at a party\",\n",
        "    \"a city skyline at sunset\",\n",
        "    \"a car driving on a road\"\n",
        "]\n",
        "\n",
        "# Preprocess the image and text to match CLIP input requirements\n",
        "inputs = processor(text=text, images=image, return_tensors=\"pt\", padding=True)\n",
        "\n",
        "# Check if CUDA is available, otherwise fall back to CPU\n",
        "device = \"cuda\" if torch.cuda.is_available() else \"cpu\"\n",
        "\n",
        "# Move tensors to the correct device\n",
        "inputs = {key: value.to(device) for key, value in inputs.items()}\n",
        "model.to(device)\n",
        "\n",
        "# Get the image and text features using CLIP\n",
        "with torch.no_grad():\n",
        "    outputs = model(**inputs)\n",
        "    logits_per_image = outputs.logits_per_image  # Image-text similarity scores\n",
        "    logits_per_text = outputs.logits_per_text  # Text-image similarity scores\n",
        "\n",
        "# Softmax to normalize similarity scores\n",
        "image_features = logits_per_image.softmax(dim=-1)  # For image-to-text similarity\n",
        "text_features = logits_per_text.softmax(dim=-1)  # For text-to-image similarity\n",
        "\n",
        "# Print similarity scores\n",
        "print(\"Image to Text Similarity Scores:\")\n",
        "for idx, caption in enumerate(text):\n",
        "    print(f\"{caption}: {image_features[0][idx].item():.4f}\")\n",
        "\n",
        "# Optionally, return the best caption based on similarity score\n",
        "best_caption_idx = torch.argmax(image_features)\n",
        "print(\"\\nBest caption for the image:\", text[best_caption_idx])"
      ],
      "metadata": {
        "id": "qoZfCzTGs6Ui"
      },
      "execution_count": null,
      "outputs": []
    }
  ]
}