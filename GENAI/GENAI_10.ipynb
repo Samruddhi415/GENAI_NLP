{
  "nbformat": 4,
  "nbformat_minor": 0,
  "metadata": {
    "colab": {
      "private_outputs": true,
      "provenance": [],
      "gpuType": "T4"
    },
    "kernelspec": {
      "name": "python3",
      "display_name": "Python 3"
    },
    "language_info": {
      "name": "python"
    },
    "accelerator": "GPU"
  },
  "cells": [
    {
      "cell_type": "code",
      "execution_count": null,
      "metadata": {
        "id": "gEyuCvVYihvI"
      },
      "outputs": [],
      "source": [
        "# Install required libraries\n",
        "!pip install diffusers transformers torch accelerate"
      ]
    },
    {
      "cell_type": "code",
      "source": [
        "# Import necessary libraries\n",
        "import torch\n",
        "from diffusers import StableDiffusionPipeline\n",
        "\n",
        "# Load the Stable Diffusion model\n",
        "model_id = \"stabilityai/stable-diffusion-2-1\"\n",
        "pipe = StableDiffusionPipeline.from_pretrained(model_id, torch_dtype=torch.float16)\n",
        "pipe = pipe.to(\"cuda\")\n",
        "\n",
        "# Function to generate an image from a text prompt\n",
        "def generate_image(prompt):\n",
        "    # Generate the image\n",
        "    with torch.autocast(\"cuda\"):\n",
        "        image = pipe(prompt).images[0]\n",
        "\n",
        "    # Display the image\n",
        "    display(image)\n",
        "\n",
        "# Example usage\n",
        "prompt = input(\"Enter your prompt:\")\n",
        "generate_image(prompt)"
      ],
      "metadata": {
        "id": "fVf_jq2Vi4QA"
      },
      "execution_count": null,
      "outputs": []
    }
  ]
}
