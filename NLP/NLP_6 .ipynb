{
  "nbformat": 4,
  "nbformat_minor": 0,
  "metadata": {
    "colab": {
      "private_outputs": true,
      "provenance": []
    },
    "kernelspec": {
      "name": "python3",
      "display_name": "Python 3"
    },
    "language_info": {
      "name": "python"
    }
  },
  "cells": [
    {
      "cell_type": "code",
      "execution_count": null,
      "metadata": {
        "id": "GwqHPD15AVIS"
      },
      "outputs": [],
      "source": [
        "!pip install transformers\n",
        "!pip install torch\n",
        "!pip install datasets"
      ]
    },
    {
      "cell_type": "code",
      "source": [
        "import torch\n",
        "from transformers import RobertaTokenizer, RobertaForSequenceClassification\n",
        "from torch.nn.functional import softmax\n",
        "\n",
        "tokenizer = RobertaTokenizer.from_pretrained('cardiffnlp/twitter-roberta-base-sentiment')\n",
        "model = RobertaForSequenceClassification.from_pretrained('cardiffnlp/twitter-roberta-base-sentiment')\n",
        "\n",
        "def analyze_sentiment(text):\n",
        "\n",
        "    inputs = tokenizer(text, return_tensors=\"pt\", truncation=True, padding=True, max_length=512)\n",
        "\n",
        "\n",
        "    with torch.no_grad():\n",
        "        logits = model(**inputs).logits\n",
        "\n",
        "\n",
        "    probs = softmax(logits, dim=1)\n",
        "\n",
        "    labels = [\"negative\", \"neutral\", \"positive\"]\n",
        "    sentiment = labels[torch.argmax(probs)]\n",
        "    confidence = torch.max(probs).item()\n",
        "\n",
        "    return sentiment, confidence\n",
        "\n",
        "\n",
        "print(\"Please enter a complex sentence or paragraph for sentiment analysis (enter 'exit' to quit):\")\n",
        "while True:\n",
        "    user_input = input(\"\\nEnter text: \")\n",
        "\n",
        "    if user_input.lower() == 'exit':\n",
        "        break\n",
        "\n",
        "    sentiment, confidence = analyze_sentiment(user_input)\n",
        "\n",
        "    # Output the result\n",
        "    print(f\"\\nSentiment: {sentiment}\")\n",
        "    print(f\"Confidence: {confidence:.4f}\")\n"
      ],
      "metadata": {
        "id": "Ot3Oa3yvAdNg"
      },
      "execution_count": null,
      "outputs": []
    }
  ]
}
