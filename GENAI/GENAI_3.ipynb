{
  "nbformat": 4,
  "nbformat_minor": 0,
  "metadata": {
    "colab": {
      "private_outputs": true,
      "provenance": []
    },
    "kernelspec": {
      "name": "python3",
      "display_name": "Python 3"
    },
    "language_info": {
      "name": "python"
    }
  },
  "cells": [
    {
      "cell_type": "code",
      "execution_count": null,
      "metadata": {
        "id": "JIAC1CcHnmk-"
      },
      "outputs": [],
      "source": [
        "!pip install transformers datasets"
      ]
    },
    {
      "cell_type": "code",
      "source": [
        "# Step 2: Import dependencies\n",
        "import torch\n",
        "from transformers import GPT2LMHeadModel, GPT2Tokenizer, Trainer, TrainingArguments, TextDataset, DataCollatorForLanguageModeling\n",
        "from datasets import load_dataset\n",
        "\n",
        "# Step 3: Load tokenizer and model\n",
        "tokenizer = GPT2Tokenizer.from_pretrained(\"gpt2\")\n",
        "model = GPT2LMHeadModel.from_pretrained(\"gpt2\")\n",
        "\n",
        "# Set pad token to eos token\n",
        "tokenizer.pad_token = tokenizer.eos_token\n",
        "\n",
        "# Step 4: Load and tokenize dataset\n",
        "dataset_path = \"/content/stories.txt\"  # Updated path\n",
        "dataset = load_dataset(\"text\", data_files={\"train\": dataset_path})\n",
        "\n",
        "def tokenize_function(examples):\n",
        "    return tokenizer(\n",
        "        examples[\"text\"],\n",
        "        truncation=True,\n",
        "        padding=\"max_length\",\n",
        "        max_length=512,\n",
        "        return_tensors=\"pt\"\n",
        "    )\n",
        "\n",
        "tokenized_datasets = dataset.map(tokenize_function, batched=True, remove_columns=[\"text\"])\n",
        "\n",
        "data_collator = DataCollatorForLanguageModeling(\n",
        "    tokenizer=tokenizer,\n",
        "    mlm=False  # GPT-2 is not trained with masked language modeling\n",
        ")\n",
        "\n",
        "# Step 5: Define training arguments\n",
        "training_args = TrainingArguments(\n",
        "    output_dir=\"/content/gpt2-story-model\",\n",
        "    overwrite_output_dir=True,\n",
        "    num_train_epochs=3,\n",
        "    per_device_train_batch_size=4,\n",
        "    save_steps=500,\n",
        "    save_total_limit=2,\n",
        "    logging_dir=\"/content/logs\",\n",
        "    logging_steps=100,\n",
        "    prediction_loss_only=True,\n",
        "    fp16=torch.cuda.is_available()  # Use mixed precision if GPU is available\n",
        ")\n",
        "\n",
        "# Step 6: Train the model\n",
        "trainer = Trainer(\n",
        "    model=model,\n",
        "    args=training_args,\n",
        "    train_dataset=tokenized_datasets[\"train\"],\n",
        "    data_collator=data_collator\n",
        ")\n",
        "\n",
        "trainer.train()\n",
        "\n",
        "# Step 7: Save the fine-tuned model\n",
        "model.save_pretrained(\"/content/gpt2-story-model\")\n",
        "tokenizer.save_pretrained(\"/content/gpt2-story-model\")\n",
        "\n",
        "# Step 8: Generate text\n",
        "def generate_text(prompt, max_length=200, temperature=0.7, top_p=0.9):\n",
        "    input_ids = tokenizer.encode(prompt, return_tensors=\"pt\")\n",
        "    attention_mask = input_ids != tokenizer.pad_token_id  # Create attention mask\n",
        "    output = model.generate(\n",
        "        input_ids,\n",
        "        attention_mask=attention_mask,\n",
        "        max_length=max_length,\n",
        "        temperature=temperature,\n",
        "        top_p=top_p,\n",
        "        do_sample=True,\n",
        "        pad_token_id=tokenizer.eos_token_id  # Explicitly set pad token id\n",
        "    )\n",
        "    return tokenizer.decode(output[0], skip_special_tokens=True)\n",
        "\n",
        "# Example prompt\n",
        "prompt = input(\"Enter your prompt for story generation:\")\n",
        "print(generate_text(prompt))"
      ],
      "metadata": {
        "id": "WdU_O_orn1rd"
      },
      "execution_count": null,
      "outputs": []
    }
  ]
}